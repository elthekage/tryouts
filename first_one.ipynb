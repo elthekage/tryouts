{
 "cells": [
  {
   "cell_type": "code",
   "execution_count": 2,
   "metadata": {},
   "outputs": [],
   "source": [
    "import pandas as pd\n",
    "import numpy as np\n",
    "import matplotlib.pyplot as plt"
   ]
  },
  {
   "cell_type": "code",
   "execution_count": 3,
   "metadata": {},
   "outputs": [],
   "source": [
    "data = pd.read_csv(\"/Users/mac/Downloads/Airlines Reviews and Rating.csv\")"
   ]
  },
  {
   "cell_type": "code",
   "execution_count": 4,
   "metadata": {},
   "outputs": [
    {
     "data": {
      "text/html": [
       "<div>\n",
       "<style scoped>\n",
       "    .dataframe tbody tr th:only-of-type {\n",
       "        vertical-align: middle;\n",
       "    }\n",
       "\n",
       "    .dataframe tbody tr th {\n",
       "        vertical-align: top;\n",
       "    }\n",
       "\n",
       "    .dataframe thead th {\n",
       "        text-align: right;\n",
       "    }\n",
       "</style>\n",
       "<table border=\"1\" class=\"dataframe\">\n",
       "  <thead>\n",
       "    <tr style=\"text-align: right;\">\n",
       "      <th></th>\n",
       "      <th>Aircraft Type</th>\n",
       "      <th>Users Reviews</th>\n",
       "      <th>Country</th>\n",
       "      <th>Type_of_Travellers</th>\n",
       "      <th>Route</th>\n",
       "      <th>Seat_Types</th>\n",
       "      <th>Seat Comfort</th>\n",
       "      <th>Date Flown</th>\n",
       "      <th>Cabin Staff Service</th>\n",
       "      <th>Ground Service</th>\n",
       "      <th>Food &amp; Beverages</th>\n",
       "      <th>Wifi &amp; Connectivity</th>\n",
       "      <th>Inflight Entertainment</th>\n",
       "      <th>Value For Money</th>\n",
       "      <th>Recommended</th>\n",
       "    </tr>\n",
       "  </thead>\n",
       "  <tbody>\n",
       "    <tr>\n",
       "      <th>0</th>\n",
       "      <td>NaN</td>\n",
       "      <td>✅Trip Verified|  Cancelled our flight last-min...</td>\n",
       "      <td>United Kingdom</td>\n",
       "      <td>Couple Leisure</td>\n",
       "      <td>London Heathrow to Tokyo</td>\n",
       "      <td>Economy Class</td>\n",
       "      <td>1.0</td>\n",
       "      <td>Sep-23</td>\n",
       "      <td>1.0</td>\n",
       "      <td>2.0</td>\n",
       "      <td>1.0</td>\n",
       "      <td>NaN</td>\n",
       "      <td>3.0</td>\n",
       "      <td>1</td>\n",
       "      <td>no</td>\n",
       "    </tr>\n",
       "    <tr>\n",
       "      <th>1</th>\n",
       "      <td>NaN</td>\n",
       "      <td>✅Trip Verified| I had a flight from Miami, Flo...</td>\n",
       "      <td>United States</td>\n",
       "      <td>Solo Leisure</td>\n",
       "      <td>Miami to Dublin via London Heathrow</td>\n",
       "      <td>Business Class</td>\n",
       "      <td>1.0</td>\n",
       "      <td>Aug-23</td>\n",
       "      <td>3.0</td>\n",
       "      <td>1.0</td>\n",
       "      <td>2.0</td>\n",
       "      <td>1.0</td>\n",
       "      <td>1.0</td>\n",
       "      <td>1</td>\n",
       "      <td>no</td>\n",
       "    </tr>\n",
       "    <tr>\n",
       "      <th>2</th>\n",
       "      <td>NaN</td>\n",
       "      <td>✅Trip Verified|  We started our day with BA in...</td>\n",
       "      <td>United States</td>\n",
       "      <td>Business</td>\n",
       "      <td>Prague to San Francisco via London</td>\n",
       "      <td>Business Class</td>\n",
       "      <td>1.0</td>\n",
       "      <td>Sep-23</td>\n",
       "      <td>3.0</td>\n",
       "      <td>1.0</td>\n",
       "      <td>3.0</td>\n",
       "      <td>1.0</td>\n",
       "      <td>NaN</td>\n",
       "      <td>1</td>\n",
       "      <td>no</td>\n",
       "    </tr>\n",
       "    <tr>\n",
       "      <th>3</th>\n",
       "      <td>NaN</td>\n",
       "      <td>✅Trip Verified|  I fly British Airways weekly ...</td>\n",
       "      <td>United Kingdom</td>\n",
       "      <td>Business</td>\n",
       "      <td>London to Glasgow</td>\n",
       "      <td>Economy Class</td>\n",
       "      <td>1.0</td>\n",
       "      <td>Sep-23</td>\n",
       "      <td>1.0</td>\n",
       "      <td>1.0</td>\n",
       "      <td>1.0</td>\n",
       "      <td>1.0</td>\n",
       "      <td>1.0</td>\n",
       "      <td>1</td>\n",
       "      <td>no</td>\n",
       "    </tr>\n",
       "    <tr>\n",
       "      <th>4</th>\n",
       "      <td>NaN</td>\n",
       "      <td>Not Verified|  Everything was ok until our con...</td>\n",
       "      <td>France</td>\n",
       "      <td>Family Leisure</td>\n",
       "      <td>San Diego to Marseille via London</td>\n",
       "      <td>Economy Class</td>\n",
       "      <td>3.0</td>\n",
       "      <td>Aug-23</td>\n",
       "      <td>2.0</td>\n",
       "      <td>1.0</td>\n",
       "      <td>3.0</td>\n",
       "      <td>1.0</td>\n",
       "      <td>3.0</td>\n",
       "      <td>3</td>\n",
       "      <td>no</td>\n",
       "    </tr>\n",
       "    <tr>\n",
       "      <th>5</th>\n",
       "      <td>A350</td>\n",
       "      <td>Not Verified|  My initial flight was cancelled...</td>\n",
       "      <td>Germany</td>\n",
       "      <td>Business</td>\n",
       "      <td>Hamburg to Las Vegas via London</td>\n",
       "      <td>Premium Economy</td>\n",
       "      <td>2.0</td>\n",
       "      <td>Aug-23</td>\n",
       "      <td>2.0</td>\n",
       "      <td>1.0</td>\n",
       "      <td>2.0</td>\n",
       "      <td>NaN</td>\n",
       "      <td>3.0</td>\n",
       "      <td>1</td>\n",
       "      <td>no</td>\n",
       "    </tr>\n",
       "    <tr>\n",
       "      <th>6</th>\n",
       "      <td>NaN</td>\n",
       "      <td>Not Verified|  We will never fly British Airwa...</td>\n",
       "      <td>Switzerland</td>\n",
       "      <td>Family Leisure</td>\n",
       "      <td>London to Los Angeles</td>\n",
       "      <td>Economy Class</td>\n",
       "      <td>NaN</td>\n",
       "      <td>Jul-23</td>\n",
       "      <td>NaN</td>\n",
       "      <td>NaN</td>\n",
       "      <td>NaN</td>\n",
       "      <td>NaN</td>\n",
       "      <td>NaN</td>\n",
       "      <td>1</td>\n",
       "      <td>no</td>\n",
       "    </tr>\n",
       "    <tr>\n",
       "      <th>7</th>\n",
       "      <td>A320</td>\n",
       "      <td>✅Trip Verified| Check in and security clearanc...</td>\n",
       "      <td>United Kingdom</td>\n",
       "      <td>Couple Leisure</td>\n",
       "      <td>London Heathrow to Porto</td>\n",
       "      <td>Business Class</td>\n",
       "      <td>3.0</td>\n",
       "      <td>Sep-23</td>\n",
       "      <td>4.0</td>\n",
       "      <td>4.0</td>\n",
       "      <td>3.0</td>\n",
       "      <td>NaN</td>\n",
       "      <td>NaN</td>\n",
       "      <td>4</td>\n",
       "      <td>yes</td>\n",
       "    </tr>\n",
       "    <tr>\n",
       "      <th>8</th>\n",
       "      <td>NaN</td>\n",
       "      <td>Not Verified|  British Airways has confirmed i...</td>\n",
       "      <td>United Kingdom</td>\n",
       "      <td>Couple Leisure</td>\n",
       "      <td>London to Dalaman</td>\n",
       "      <td>Economy Class</td>\n",
       "      <td>NaN</td>\n",
       "      <td>Sep-23</td>\n",
       "      <td>NaN</td>\n",
       "      <td>3.0</td>\n",
       "      <td>NaN</td>\n",
       "      <td>NaN</td>\n",
       "      <td>NaN</td>\n",
       "      <td>1</td>\n",
       "      <td>no</td>\n",
       "    </tr>\n",
       "    <tr>\n",
       "      <th>9</th>\n",
       "      <td>NaN</td>\n",
       "      <td>✅Trip Verified| Worst BA experience. I was sup...</td>\n",
       "      <td>South Africa</td>\n",
       "      <td>Solo Leisure</td>\n",
       "      <td>Johannesburg to Milan via London</td>\n",
       "      <td>Economy Class</td>\n",
       "      <td>NaN</td>\n",
       "      <td>Sep-23</td>\n",
       "      <td>NaN</td>\n",
       "      <td>NaN</td>\n",
       "      <td>NaN</td>\n",
       "      <td>NaN</td>\n",
       "      <td>NaN</td>\n",
       "      <td>2</td>\n",
       "      <td>no</td>\n",
       "    </tr>\n",
       "  </tbody>\n",
       "</table>\n",
       "</div>"
      ],
      "text/plain": [
       "  Aircraft Type                                      Users Reviews  \\\n",
       "0           NaN  ✅Trip Verified|  Cancelled our flight last-min...   \n",
       "1           NaN  ✅Trip Verified| I had a flight from Miami, Flo...   \n",
       "2           NaN  ✅Trip Verified|  We started our day with BA in...   \n",
       "3           NaN  ✅Trip Verified|  I fly British Airways weekly ...   \n",
       "4           NaN  Not Verified|  Everything was ok until our con...   \n",
       "5          A350  Not Verified|  My initial flight was cancelled...   \n",
       "6           NaN  Not Verified|  We will never fly British Airwa...   \n",
       "7          A320  ✅Trip Verified| Check in and security clearanc...   \n",
       "8           NaN  Not Verified|  British Airways has confirmed i...   \n",
       "9           NaN  ✅Trip Verified| Worst BA experience. I was sup...   \n",
       "\n",
       "          Country Type_of_Travellers                                Route  \\\n",
       "0  United Kingdom     Couple Leisure             London Heathrow to Tokyo   \n",
       "1   United States       Solo Leisure  Miami to Dublin via London Heathrow   \n",
       "2   United States           Business   Prague to San Francisco via London   \n",
       "3  United Kingdom           Business                    London to Glasgow   \n",
       "4          France     Family Leisure   San Diego to Marseille via London    \n",
       "5         Germany           Business      Hamburg to Las Vegas via London   \n",
       "6     Switzerland     Family Leisure                London to Los Angeles   \n",
       "7  United Kingdom     Couple Leisure             London Heathrow to Porto   \n",
       "8  United Kingdom     Couple Leisure                    London to Dalaman   \n",
       "9    South Africa       Solo Leisure     Johannesburg to Milan via London   \n",
       "\n",
       "        Seat_Types  Seat Comfort Date Flown  Cabin Staff Service  \\\n",
       "0    Economy Class           1.0     Sep-23                  1.0   \n",
       "1   Business Class           1.0     Aug-23                  3.0   \n",
       "2   Business Class           1.0     Sep-23                  3.0   \n",
       "3    Economy Class           1.0     Sep-23                  1.0   \n",
       "4    Economy Class           3.0     Aug-23                  2.0   \n",
       "5  Premium Economy           2.0     Aug-23                  2.0   \n",
       "6    Economy Class           NaN     Jul-23                  NaN   \n",
       "7   Business Class           3.0     Sep-23                  4.0   \n",
       "8    Economy Class           NaN     Sep-23                  NaN   \n",
       "9    Economy Class           NaN     Sep-23                  NaN   \n",
       "\n",
       "   Ground Service  Food & Beverages  Wifi & Connectivity  \\\n",
       "0             2.0               1.0                  NaN   \n",
       "1             1.0               2.0                  1.0   \n",
       "2             1.0               3.0                  1.0   \n",
       "3             1.0               1.0                  1.0   \n",
       "4             1.0               3.0                  1.0   \n",
       "5             1.0               2.0                  NaN   \n",
       "6             NaN               NaN                  NaN   \n",
       "7             4.0               3.0                  NaN   \n",
       "8             3.0               NaN                  NaN   \n",
       "9             NaN               NaN                  NaN   \n",
       "\n",
       "   Inflight Entertainment  Value For Money Recommended  \n",
       "0                     3.0                1          no  \n",
       "1                     1.0                1          no  \n",
       "2                     NaN                1          no  \n",
       "3                     1.0                1          no  \n",
       "4                     3.0                3          no  \n",
       "5                     3.0                1          no  \n",
       "6                     NaN                1          no  \n",
       "7                     NaN                4         yes  \n",
       "8                     NaN                1          no  \n",
       "9                     NaN                2          no  "
      ]
     },
     "execution_count": 4,
     "metadata": {},
     "output_type": "execute_result"
    }
   ],
   "source": [
    "data.head(10)"
   ]
  },
  {
   "cell_type": "code",
   "execution_count": 10,
   "metadata": {},
   "outputs": [
    {
     "data": {
      "text/plain": [
       "Dallas Fort Worth Texas to London Heathrow BA 192 7th November 2014. Economy yes but rude staff poor food and uncomfortable seats. I travel with many airlines and used to enjoy BA so what's gone wrong.                                                                                                                                                                                                                                                                                                                                                                                                                                                                                                                                                                                                                                                                                                                                                                                                                                                                                                                                                                                                                                                                                                                                                                                                                                                                                                                                                                                                                                                                                           3\n",
       "Miami to Brussels with a change at Heathrow terminal 5. Lounge in Miami was ok ample choice of spirits but very basic champagne. Food: lots of cold cuts cheeses and some pastries. Plane: rather dated 747 and not very clean. FA's very courteous and extremely friendly - great choice of very good champagnes wines and spirits. Where BA fails: the poor quality of the food - extremely basic without any luxury items - not acceptable at all for a First product - IFE just ok. Seat kk - FA gave assistance for the sleeping position. Connecting flight to Brussels: I was informed by the - once again very friendly and courteous FA - that BA did cancel the fruit platter as a special meal. Is fruit also too expensive? Will move to other companies for long distance flights.                                                                                                                                                                                                                                                                                                                                                                                                                                                                                                                                                                                                                                                                                                                                                                                                                                                                                                     2\n",
       "BA on LCY to DUB in December flight almost full but cabin crew attentive and all smiling and offered a choice of popcorn or chips. Good value considering other airlines on this route does not serve complimentary snack at all.                                                                                                                                                                                                                                                                                                                                                                                                                                                                                                                                                                                                                                                                                                                                                                                                                                                                                                                                                                                                                                                                                                                                                                                                                                                                                                                                                                                                                                                                   2\n",
       "Phoenix to London - outbound a wonderful and enjoyable experience. The problem we had started on our return flight home. We boarded the plane and were disappointed to find out that we were in the old style first class. After being in the new cabin on the way out the old configuration is very run down and there was a rip in the seat. I was attempting to work but when I went to plug in my laptop battery I found that there was no adapter for me to use. Since I could no longer work I decided to put a movie on. The tiny screen in the old first class was just pathetic. The flight attendants did their absolute best to make up for the issues and I give them high marks for trying as hard as they possibly could to accommodate me. I decided to walk to the back and visit a friend who was also on the flight. You can imagine my surprise when I saw him sitting in business class with a TV screen bigger than mine a plug for his laptop and a new seat. At this point it became obvious to me that the rest of the cabin both coach and business class had been upgraded. It doesn't make sense to me. Just when we thought it could not get any worse we landed in Phoenix to face another issue. We waited 45 minutes for our bags before being told that our luggage was still in London. We've flown on this flight before and had the same issue of our luggage not being on the plane. The difference is that we were informed before landing that our baggage hadn't made it and that they would have it delivered directly to our home. Well this time nobody informed us so we stood there waiting for 45 minutes at the baggage claim before we were told.    2\n",
       "LHR to IST in economy. Excellent! I thought it was a new A320 but FA told me it was not new it was refurbished. Well done BA on a good re-design: new lighting seats clever seat-back storage etc. I believe they've reduced the economy seat pitch but the design is such that you don't notice. Dinner was served on this evening flight - a very tasty Chicken curry with cheese/crackers and chocolate mousse desert. A very decent meal for a 4-hour flight in economy. FAs were courteous and efficient. The only negative was security at LHR T5 where there was a long delay because of installation of new machines and security alert that morning.                                                                                                                                                                                                                                                                                                                                                                                                                                                                                                                                                                                                                                                                                                                                                                                                                                                                                                                                                                                                                                       2\n",
       "                                                                                                                                                                                                                                                                                                                                                                                                                                                                                                                                                                                                                                                                                                                                                                                                                                                                                                                                                                                                                                                                                                                                                                                                                                                                                                                                                                                                                                                                                                                                                                                                                                                                                                   ..\n",
       "✅Trip Verified|  Paphos to London Gatwick in Club Europe. We had checked before leaving our hotel and realised that the flight was delayed, as were many other flights, due to bad weather the previous evening in UK. We checked in on time, only to be advised that there was no lounge available for Club Europe passengers and if we wanted to use the premium lounge we could pay! Whilst we appreciate that there may not be a BA lounge it is normal that BA would have an arrangement with the local lounge provider as we have experience at many other airports when travelling in business class. We were offered a €10 voucher each, due to the delayed flight!! Paphos airport was extremely crowded and having paid good money to travel in business class we were very disappointed with BA, that no lounge access was available. The flight itself was OK, although two hours late. The cabin crew provided good service and the meal service reasonable, my wife chose the chilli con carne and I chose the roasted chicken, both were a little dry. On arrival at Gatwick at 01-00 we were through passport control quickly and then waited 45 minutes for the cases to be delivered, again very poor show. BA has some great assets, particularly the cabin crew, but we felt let down by the ground services at both end of this flight Like us many travellers like to travel with a 'full service' airline and in this case BA were lacking.                                                                                                                                                                                                                                  1\n",
       "✅Trip Verified|  Gatwick to Paphos in Club Europe. We travelled on the first Saturday of the school holidays and whilst Gatwick was busy the check in for business class was not to bad. We expected the lounge to be busy but there was plenty of free seats. The flight boarded slightly late but we were not long in the take off queue. We are used the BA's Club Europe offering and whilst would prefer a little more leg room the flight was reasonably comfortable. Service from the cabin crew was good. It is nice that BA have gone away from the miniature bottles of wine in Club Europe and now serve by the glass. The meal service was quite good, we both chose the chicken curry for the main course, which was tasty and not dried out. Flight arrived 5 minutes ahead of schedule. Very happy with the service.                                                                                                                                                                                                                                                                                                                                                                                                                                                                                                                                                                                                                                                                                                                                                                                                                                                                 1\n",
       "✅Trip Verified|  \\r\\nNew York to Nairobi via London. Flight Attendants were wonderful, friendly, cheery and helpful. But the business Class seats that face aft cause the passenger to have to crawl over the legs of a sleeping stranger, even if you are seated next to a companion. There is no easily accessible storage space by the seat; even for a bottle of water. The IFE on the LHR-NBO leg reminds me of the game \"pong\" in its resolution and food is mediocre, at best. BA charges to select Business Class seats. For my family of 4, it would have cost over $1,600 to get 4 assigned seats on the 4 segments.                                                                                                                                                                                                                                                                                                                                                                                                                                                                                                                                                                                                                                                                                                                                                                                                                                                                                                                                                                                                                                                                      1\n",
       "✅Trip Verified|  Istanbul to London Heathrow. The plane itself was old, I found the  food choices were a joke considering we have to pay for the privilege and we were not allowed to bring our laptops on the plane back, had to be checked in for security purposes. This meant that when I was at Ataturk airport we had no less than 3 separate security checks. 1 before check in, one after check in and one before getting on the plane. Because we had no laptop there was no entertainment on board and nothing to do for the 4 hours on the plane. Norwegian offers free wifi so I could check my phone on the plane. British Airways need to improve their service levels.                                                                                                                                                                                                                                                                                                                                                                                                                                                                                                                                                                                                                                                                                                                                                                                                                                                                                                                                                                                                               1\n",
       "Travelled to Palma in new BA 'sardine' business class. Uncomfortable seats with Ryanair leg room so knees sticking into passenger in front. Poor service. Despite checking in 90 minutes before departure left 2 bags behind which were not delivered for more than 24 hours later causing misery. Other passengers also shocked at conditions. If this is the new look business class BA then better off with Easyjet or Ryanair much cheaper and service could not be much worse.                                                                                                                                                                                                                                                                                                                                                                                                                                                                                                                                                                                                                                                                                                                                                                                                                                                                                                                                                                                                                                                                                                                                                                                                                 1\n",
       "Name: Users Reviews, Length: 3227, dtype: int64"
      ]
     },
     "execution_count": 10,
     "metadata": {},
     "output_type": "execute_result"
    }
   ],
   "source": [
    "data['Users Reviews'].value_counts()"
   ]
  },
  {
   "cell_type": "code",
   "execution_count": 5,
   "metadata": {},
   "outputs": [
    {
     "data": {
      "text/plain": [
       "Index(['Aircraft Type', 'Users Reviews', 'Country', 'Type_of_Travellers',\n",
       "       'Route', 'Seat_Types', 'Seat Comfort', 'Date Flown',\n",
       "       'Cabin Staff Service', 'Ground Service', 'Food & Beverages',\n",
       "       'Wifi & Connectivity', 'Inflight Entertainment', 'Value For Money',\n",
       "       'Recommended'],\n",
       "      dtype='object')"
      ]
     },
     "execution_count": 5,
     "metadata": {},
     "output_type": "execute_result"
    }
   ],
   "source": [
    "data.columns"
   ]
  },
  {
   "cell_type": "code",
   "execution_count": 6,
   "metadata": {},
   "outputs": [
    {
     "data": {
      "text/plain": [
       "False    1896\n",
       "True     1394\n",
       "Name: Aircraft Type, dtype: int64"
      ]
     },
     "execution_count": 6,
     "metadata": {},
     "output_type": "execute_result"
    }
   ],
   "source": [
    "data['Aircraft Type'].isna().value_counts()"
   ]
  },
  {
   "cell_type": "code",
   "execution_count": 7,
   "metadata": {},
   "outputs": [
    {
     "data": {
      "text/plain": [
       "(3290, 15)"
      ]
     },
     "execution_count": 7,
     "metadata": {},
     "output_type": "execute_result"
    }
   ],
   "source": [
    "data.shape"
   ]
  },
  {
   "cell_type": "code",
   "execution_count": 8,
   "metadata": {},
   "outputs": [
    {
     "data": {
      "text/plain": [
       "no     2016\n",
       "yes    1274\n",
       "Name: Recommended, dtype: int64"
      ]
     },
     "execution_count": 8,
     "metadata": {},
     "output_type": "execute_result"
    }
   ],
   "source": [
    "data['Recommended'].value_counts()"
   ]
  },
  {
   "cell_type": "code",
   "execution_count": 9,
   "metadata": {},
   "outputs": [
    {
     "data": {
      "text/plain": [
       "Aircraft Type             1394\n",
       "Users Reviews                0\n",
       "Country                      1\n",
       "Type_of_Travellers         403\n",
       "Route                      407\n",
       "Seat_Types                   3\n",
       "Seat Comfort               114\n",
       "Date Flown                 410\n",
       "Cabin Staff Service        125\n",
       "Ground Service             478\n",
       "Food & Beverages           379\n",
       "Wifi & Connectivity       2698\n",
       "Inflight Entertainment    1119\n",
       "Value For Money              0\n",
       "Recommended                  0\n",
       "dtype: int64"
      ]
     },
     "execution_count": 9,
     "metadata": {},
     "output_type": "execute_result"
    }
   ],
   "source": [
    "data.isna().sum()"
   ]
  },
  {
   "cell_type": "code",
   "execution_count": null,
   "metadata": {},
   "outputs": [],
   "source": [
    "data_dt = data[['Aircraft Type', 'Users Reviews', 'Country', 'Type_of_Travellers',\n",
    "       'Route', 'Seat_Types', 'Seat Comfort', 'Date Flown',\n",
    "       'Cabin Staff Service', 'Ground Service', 'Food & Beverages',\n",
    "       'Wifi & Connectivity', 'Value For Money',\n",
    "       'Recommended']]"
   ]
  }
 ],
 "metadata": {
  "kernelspec": {
   "display_name": "Python 3",
   "language": "python",
   "name": "python3"
  },
  "language_info": {
   "codemirror_mode": {
    "name": "ipython",
    "version": 3
   },
   "file_extension": ".py",
   "mimetype": "text/x-python",
   "name": "python",
   "nbconvert_exporter": "python",
   "pygments_lexer": "ipython3",
   "version": "3.9.7"
  }
 },
 "nbformat": 4,
 "nbformat_minor": 2
}
